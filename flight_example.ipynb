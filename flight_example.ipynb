{
 "cells": [
  {
   "cell_type": "code",
   "execution_count": 1,
   "metadata": {},
   "outputs": [],
   "source": [
    "# Import used packages\n",
    "%matplotlib inline\n",
    "import torch\n",
    "import torch.nn as nn\n",
    "import torch.nn.functional as F\n",
    "import torch.optim as optim\n",
    "import torchvision\n",
    "from torchvision import datasets, transforms\n",
    "from torch.optim.lr_scheduler import StepLR\n",
    "\n",
    "import numpy as np\n",
    "from matplotlib import pyplot as plt\n",
    "from torch.utils.tensorboard import SummaryWriter\n",
    "from IPython.display import clear_output\n",
    "import random\n",
    "import os\n",
    "import math\n",
    "from torchvision.transforms import ToTensor\n",
    "import io\n",
    "import time\n",
    "import random\n",
    "from utils import *\n",
    "from datasets import *\n",
    "import sys\n",
    "import shutil\n",
    "\n",
    "device = torch.device(\"cuda:2\")\n",
    "\n",
    "import time\n",
    "start_time = time.time()"
   ]
  },
  {
   "cell_type": "code",
   "execution_count": 2,
   "metadata": {},
   "outputs": [],
   "source": [
    "# Hyperparameter setup\n",
    "num_iteration = 50000    # Number of interactions between airline and agents\n",
    "conservative_prob = 0.3   # Proportion of decision agents that are conservative\n",
    "use_bet = True            # Whether the betting mechanism is used\n",
    "\n",
    "\n",
    "lr = 4e-4                 # Learning rate of forecaster\n",
    "bias_minimizer = 'swap'   # Bias minimizer of forecaster, can choose swap, none, naive, avg\n",
    "num_bins = 40             # Choice of K for swap regret minimizer"
   ]
  },
  {
   "cell_type": "code",
   "execution_count": 3,
   "metadata": {},
   "outputs": [
    {
     "name": "stdout",
     "output_type": "stream",
     "text": [
      "Run number = 3\n"
     ]
    },
    {
     "name": "stderr",
     "output_type": "stream",
     "text": [
      "/usr/local/lib/python3.5/dist-packages/h5py/__init__.py:36: FutureWarning: Conversion of the second argument of issubdtype from `float` to `np.floating` is deprecated. In future, it will be treated as `np.float64 == np.dtype(float).type`.\n",
      "  from ._conv import register_converters as _register_converters\n"
     ]
    }
   ],
   "source": [
    "run_label = 0\n",
    "\n",
    "log_directory = '/data/mechanism-uncertainty/flight'\n",
    "while True:\n",
    "    log_dir = '%s/usebet=%r-bias=%s-consprob=%.2f-clr=%.5f-num_bins=%d-run=%d' % \\\n",
    "        (log_directory, use_bet, bias_minimizer, conservative_prob, lr, num_bins, run_label)\n",
    "    if not os.path.isdir(log_dir):\n",
    "        os.makedirs(log_dir)\n",
    "        break\n",
    "    run_label += 1\n",
    "print(\"Run number = %d\" % run_label)\n",
    "\n",
    "writer = SummaryWriter(log_dir)\n",
    "global_iteration = 0   "
   ]
  },
  {
   "cell_type": "code",
   "execution_count": 4,
   "metadata": {},
   "outputs": [],
   "source": [
    "dataset = FlightDataset(device, batch_size=1, max_train_size=num_iteration) "
   ]
  },
  {
   "cell_type": "code",
   "execution_count": 5,
   "metadata": {},
   "outputs": [],
   "source": [
    "# Very simple classifier\n",
    "class Classifier(nn.Module):\n",
    "    def __init__(self, x_dim, out_dim=1, size=8):\n",
    "        super(Classifier, self).__init__()\n",
    "        self.fc1 = nn.Linear(x_dim, size)\n",
    "        self.fc2 = nn.Linear(size, out_dim)\n",
    "        \n",
    "    def forward(self, x):\n",
    "        fc = F.leaky_relu(self.fc1(x))\n",
    "        fc = self.fc2(fc)\n",
    "        return fc"
   ]
  },
  {
   "cell_type": "code",
   "execution_count": 6,
   "metadata": {},
   "outputs": [],
   "source": [
    "model_f = Classifier(dataset.x_dim).to(device)\n",
    "model_c = Classifier(dataset.x_dim).to(device)\n",
    "\n",
    "model_bias = minimizers[bias_minimizer](vmin=-0.1, vmax=0.1, num_step=num_bins)\n",
    "optim_step = optim.Adam(list(model_c.parameters()) + list(model_f.parameters()), lr=lr)"
   ]
  },
  {
   "cell_type": "code",
   "execution_count": 8,
   "metadata": {},
   "outputs": [
    {
     "name": "stdout",
     "output_type": "stream",
     "text": [
      "torch.Size([1]) torch.Size([1]) torch.Size([1])\n",
      "tensor([0.2000], dtype=torch.float64) tensor([0.1000], dtype=torch.float64) tensor([1.], dtype=torch.float64)\n"
     ]
    },
    {
     "data": {
      "image/png": "[encoded data removed]",
      "text/plain": [
       "<matplotlib.figure.Figure at 0x7f59e25366a0>"
      ]
     },
     "metadata": {},
     "output_type": "display_data"
    },
    {
     "data": {
      "text/plain": [
       "tensor(103502.8070, dtype=torch.float64)"
      ]
     },
     "execution_count": 8,
     "metadata": {},
     "output_type": "execute_result"
    }
   ],
   "source": [
    "bet_revenue_cum = 0.0\n",
    "ticket_revenue_cum = 0.0\n",
    "agent_utility_cum = torch.zeros(3).to(device)\n",
    "agent_count = torch.zeros(3).to(device)\n",
    "\n",
    "def evaluate_bets(pred, cost, labels, writer, debug=False):\n",
    "    global bet_revenue_cum\n",
    "    global ticket_revenue_cum\n",
    "    \n",
    "    if debug:\n",
    "        plt.figure(figsize=(16, 3))\n",
    "        print(pred.shape, cost.shape, labels.shape)\n",
    "        print(pred, cost, labels)\n",
    "        \n",
    "    # Simulate agents making decisions\n",
    "    with torch.no_grad():\n",
    "        # Compute the expected loss under the predicted probability \n",
    "        num_person = 1000\n",
    "        num_ticket = 300\n",
    "\n",
    "        r_alt = torch.rand(size=(num_person,), dtype=pred.dtype).to(pred.device) * 200.0\n",
    "        r_trip = torch.rand_like(r_alt) * 400.0\n",
    "        r_trip = torch.max(r_alt, r_trip)\n",
    "        c_delay = ((4.0 + torch.rand_like(r_alt) * 5.0)).exp() / 5.0\n",
    "\n",
    "        if debug:\n",
    "            plt.subplot(1, 4, 1)\n",
    "            plt.hist(r_alt, bins=50, color='r', alpha=0.5)\n",
    "            plt.hist(r_trip, bins=50, color='g', alpha=0.5)\n",
    "            plt.hist(c_delay, bins=50, color='b', alpha=0.5)\n",
    "            plt.xlim((10, 2000))\n",
    "    \n",
    "        max_price_naive = r_trip - r_alt \n",
    "        if use_bet:\n",
    "            max_price_conservative = r_trip - r_alt - (pred + cost) * c_delay\n",
    "        else:\n",
    "            max_price_conservative = r_trip - r_alt - c_delay\n",
    "        max_price_trustful = r_trip - r_alt - pred * c_delay \n",
    "        \n",
    "        agent_type = torch.zeros_like(r_alt, dtype=torch.int)  # Agent type = 0: naive, 1: trustful, 2: conservative,\n",
    "        trustful_prob = 0.5 * (1.0 - conservative_prob)\n",
    "        agent_type[:int(num_person * trustful_prob)] = 1\n",
    "        agent_type[-int(num_person * conservative_prob):] = 2\n",
    "        agent_type = agent_type[torch.randperm(num_person)]\n",
    "        \n",
    "        if debug:\n",
    "            plt.subplot(1, 4, 2)\n",
    "            plt.hist(agent_type)\n",
    "\n",
    "        max_price = max_price_naive * (agent_type == 0) + max_price_conservative * (agent_type == 2) + max_price_trustful * (agent_type == 1)\n",
    "        if use_bet:\n",
    "            bet_naive = torch.zeros_like(r_alt)\n",
    "            bet_trustful = torch.zeros_like(r_alt)\n",
    "            bet_conservative = c_delay  \n",
    "            bet = bet_naive * (agent_type == 0) + bet_conservative * (agent_type == 2) + bet_trustful * (agent_type == 1)\n",
    "        else:\n",
    "            bet = torch.zeros_like(r_alt)\n",
    "            \n",
    "        final_price, _ = torch.sort(max_price)\n",
    "        final_price = final_price[-num_ticket-1]\n",
    "        \n",
    "        if debug:\n",
    "            plt.subplot(1, 4, 3)\n",
    "            plt.hist(bet, bins=40)\n",
    "            plt.yscale('log')\n",
    "\n",
    "        total_bet = bet.sum() \n",
    "        \n",
    "        ticket_revenue = final_price * num_ticket\n",
    "        bet_revenue = total_bet * (pred - labels) + total_bet.abs() * cost \n",
    "        \n",
    "        ticket_revenue_cum += ticket_revenue.sum()\n",
    "        bet_revenue_cum += bet_revenue.sum()\n",
    "        \n",
    "        agent_buy = max_price > final_price\n",
    "        \n",
    "        agent_utility_buy = r_trip - final_price - labels * c_delay + bet * (labels - pred) - bet.abs() * cost \n",
    "        for agent_i in range(3):\n",
    "            utilities = torch.cat([agent_utility_buy[(agent_type==agent_i) & agent_buy], r_alt[(agent_type==agent_i) & (~agent_buy)]])\n",
    "            agent_utility_cum[agent_i] += utilities.sum()\n",
    "            agent_count[agent_i] += (agent_type == agent_i).type(torch.int).sum()\n",
    "            \n",
    "            if debug:\n",
    "                plt.subplot(1, 4, 4)\n",
    "                plt.hist(utilities, bins=40, alpha=0.5, label='%d' % agent_i)\n",
    "        if debug:\n",
    "            plt.legend()\n",
    "            plt.show()\n",
    "\n",
    "        for agent_i in range(3):\n",
    "            writer.add_scalar('utility_%d_cum' % agent_i, agent_utility_cum[agent_i] / (1e-5 + agent_count[agent_i]), global_iteration)\n",
    "    return total_bet\n",
    "             \n",
    "# Code for plotting and debugging evaluate_bets with dummy inputs\n",
    "delay_prob = torch.from_numpy(np.array([0.2]))\n",
    "y = torch.from_numpy(np.array([1.0]))\n",
    "cost = torch.from_numpy(np.array([0.1])) \n",
    "evaluate_bets(delay_prob, cost, y, writer, debug=True)"
   ]
  },
  {
   "cell_type": "code",
   "execution_count": null,
   "metadata": {},
   "outputs": [
    {
     "name": "stdout",
     "output_type": "stream",
     "text": [
      "Running iteration 0, time_elapsed=96.84\n",
      "Running iteration 10000, time_elapsed=176.91\n"
     ]
    }
   ],
   "source": [
    "for iteration in range(num_iteration):\n",
    "    inputs, labels, extra = dataset.train_batch()\n",
    "    optim_step.zero_grad()\n",
    "\n",
    "    pred = model_f(inputs)\n",
    "    cost = model_c(inputs)\n",
    "    cost_bias = model_bias.get_pred()\n",
    "    writer.add_scalar('bias', cost_bias, global_iteration)\n",
    "\n",
    "    with torch.no_grad():\n",
    "        bet = evaluate_bets(pred=pred.flatten(), cost=cost.flatten() + cost_bias, labels=labels.flatten(), writer=writer).view(-1, 1)\n",
    "        \n",
    "    writer.add_scalar('revenue_bet_cum', bet_revenue_cum / (1 + iteration), global_iteration)\n",
    "    writer.add_scalar('revenue_ticket_cum', ticket_revenue_cum / (1 + iteration), global_iteration)\n",
    "    writer.add_scalar('revenue_total', (bet_revenue_cum + ticket_revenue_cum) / (1 + iteration), global_iteration)\n",
    "\n",
    "    if bias_minimizer == 'avg':\n",
    "        model_bias.set_outcome(a=(bet * (labels - pred) - bet.abs() * cost).detach().item(), b=-bet.abs().detach().item())\n",
    "    else:\n",
    "        model_bias.set_outcome(a=((bet * (labels - pred) - bet.abs() * cost) / (1e-10 + bet.abs().sqrt())).detach().item(), b=-bet.abs().sqrt().detach().item())\n",
    "\n",
    "    # Train based only on the new data\n",
    "    c_loss = (bet * (labels - pred.detach()) - bet.abs() * cost).pow(2).mean()\n",
    "    f_loss = (labels - pred).pow(2).mean()\n",
    "    loss_all = f_loss + c_loss\n",
    "    loss_all.backward()\n",
    "    optim_step.step()\n",
    "\n",
    "    writer.add_scalar('loss_c', c_loss, global_iteration)\n",
    "    writer.add_scalar('loss_f', f_loss, global_iteration)\n",
    "    writer.add_scalar('avg_cost', cost.mean(), global_iteration)\n",
    "    writer.add_scalar('avg_pred', pred.mean(), global_iteration)\n",
    "    writer.add_scalar('avg_label', labels.mean(), global_iteration)\n",
    "    \n",
    "    global_iteration += 1\n",
    "\n",
    "    if iteration % (num_iteration // 10) == 0:\n",
    "        print(\"Running iteration %d, time_elapsed=%.2f\" % (iteration, time.time() - start_time))"
   ]
  },
  {
   "cell_type": "code",
   "execution_count": null,
   "metadata": {},
   "outputs": [],
   "source": []
  }
 ],
 "metadata": {
  "kernelspec": {
   "display_name": "Python 3",
   "language": "python",
   "name": "python3"
  },
  "language_info": {
   "codemirror_mode": {
    "name": "ipython",
    "version": 3
   },
   "file_extension": ".py",
   "mimetype": "text/x-python",
   "name": "python",
   "nbconvert_exporter": "python",
   "pygments_lexer": "ipython3",
   "version": "3.5.2"
  }
 },
 "nbformat": 4,
 "nbformat_minor": 4
}
